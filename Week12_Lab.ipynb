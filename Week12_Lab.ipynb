{
  "nbformat": 4,
  "nbformat_minor": 0,
  "metadata": {
    "colab": {
      "provenance": [],
      "include_colab_link": true
    },
    "kernelspec": {
      "name": "python3",
      "display_name": "Python 3"
    },
    "language_info": {
      "name": "python"
    }
  },
  "cells": [
    {
      "cell_type": "markdown",
      "metadata": {
        "id": "view-in-github",
        "colab_type": "text"
      },
      "source": [
        "<a href=\"https://colab.research.google.com/github/dakotahansen11/IS_4487/blob/main/Week12_Lab.ipynb\" target=\"_parent\"><img src=\"https://colab.research.google.com/assets/colab-badge.svg\" alt=\"Open In Colab\"/></a>"
      ]
    },
    {
      "cell_type": "markdown",
      "metadata": {
        "id": "p_Yu45OYdj3Y"
      },
      "source": [
        "# IS 4487 Module 5 Script\n",
        "\n",
        "## Objectives\n",
        "\n",
        "What do you need to know for this module's project?\n",
        "\n",
        "1. Fit a tree model using all the available predictors. \n",
        "2. Create a confusion matrix  and identify numbers of TP, FP, TN and FN.\n",
        "3. Estimate profit (benefits - costs) using a defined cost-benefit matrix and the above confusion matrix.\n",
        "4. Estimate profit for a strategy that consists in calling everyone.\n",
        "5. Estimate profit for a class decision threshold of .3 \n",
        "6.  Use the model to predict on a new dataset (without the target), then use these predictions to identify those who should be called--a contact list.\n",
        "7.  Make a recommendation to the Director of Sales based on your analytic work.\n",
        "\n",
        "**NOTE:** For the module 5 project you will predict answering for prospective customers (who have not yet been called). Consequently, the assignment requires an additional dataset, customer_data.csv, that you will need to download and move into your project folder.  Here is code to load that data into memory after you have it saved in your project folder (your working directory). This code is included in the template script.\n",
        "\n",
        "We will again use the MegaTelCo data for this demonstration."
      ]
    },
    {
      "cell_type": "markdown",
      "metadata": {
        "id": "UE93RwXhgiJS"
      },
      "source": [
        "##Load Libraries\n",
        "\n",
        "In this class we will be using \n",
        "- Pandas\n",
        "- Scikitlearn\n",
        "- Matplotlib\n"
      ]
    },
    {
      "cell_type": "code",
      "metadata": {
        "id": "JYRZY5n0gfNe"
      },
      "source": [
        "import pandas as pd\n",
        "import matplotlib as mpl\n",
        "import seaborn as sns\n",
        "\n",
        "from sklearn.tree import DecisionTreeClassifier, export_graphviz # Import Decision Tree Classifier\n",
        "from sklearn.model_selection import train_test_split # Import train_test_split function\n",
        "from sklearn import metrics  #Import scikit-learn metrics module for accuracy calculation\n",
        "from sklearn.metrics import confusion_matrix\n"
      ],
      "execution_count": 1,
      "outputs": []
    },
    {
      "cell_type": "markdown",
      "metadata": {
        "id": "bREaXo8jfu-O"
      },
      "source": [
        "## Getting data into Pandas\n",
        "\n",
        "In this case we will load data from the statsmodels.org library\n",
        "\n",
        "See the Canvas assignments and lectures for a description of the Megatelco data\n",
        "\n",
        "**Note:** you will need to enter a code supplied by Google in the next step. \n"
      ]
    },
    {
      "cell_type": "code",
      "metadata": {
        "id": "6_FwprxVgR0e",
        "colab": {
          "base_uri": "https://localhost:8080/"
        },
        "outputId": "dd00fe6d-5420-4670-90a2-dc773dc8f2e8"
      },
      "source": [
        "from google.colab import drive \n",
        "drive.mount('/content/gdrive', force_remount=True)\n",
        "\n",
        "df = pd.read_csv (r'/content/gdrive/MyDrive/Colab Notebooks/megatelco.csv')\n"
      ],
      "execution_count": 2,
      "outputs": [
        {
          "output_type": "stream",
          "name": "stdout",
          "text": [
            "Mounted at /content/gdrive\n"
          ]
        }
      ]
    },
    {
      "cell_type": "code",
      "metadata": {
        "id": "gSvao0dlhlNn",
        "colab": {
          "base_uri": "https://localhost:8080/",
          "height": 427
        },
        "outputId": "c2d3a120-5a9e-4ca7-ad1b-d054f618bfda"
      },
      "source": [
        "#look at the top rows\n",
        "df.head(10) "
      ],
      "execution_count": 3,
      "outputs": [
        {
          "output_type": "execute_result",
          "data": {
            "text/plain": [
              "  college  income  overage  leftover   house  handset_price  \\\n",
              "0     one   23859       70         0  519105            154   \n",
              "1    zero   72466       67        16  271182            262   \n",
              "2    zero   30883       60         0  647281            211   \n",
              "3     one   44512        0        22  754958            232   \n",
              "4    zero   70535        0         0  653421            310   \n",
              "5    zero  143987        0        56  896544            778   \n",
              "6     one   96668       79        24  259329            365   \n",
              "7     one   50083        0         0  160335            266   \n",
              "8     one  104392        0         0  247836            778   \n",
              "9     one   37852        0        74  264893            857   \n",
              "\n",
              "   over_15mins_calls_per_month  average_call_duration reported_satisfaction  \\\n",
              "0                          5.0                      8                   low   \n",
              "1                          5.0                      5                   low   \n",
              "2                          3.0                      8                   low   \n",
              "3                          0.0                      5                   low   \n",
              "4                          0.0                     14                   low   \n",
              "5                          5.0                      1                   low   \n",
              "6                          5.0                      6                   low   \n",
              "7                          5.0                     10                   low   \n",
              "8                          1.0                      8                  high   \n",
              "9                          0.0                      2                   low   \n",
              "\n",
              "  reported_usage_level considering_change_of_plan  leave     id  \n",
              "0                  low                        yes  LEAVE   8183  \n",
              "1                  low                        yes  LEAVE  12501  \n",
              "2                  low                        yes   STAY   7425  \n",
              "3                  low                         no  LEAVE  13488  \n",
              "4                  low                        yes   STAY  11389  \n",
              "5                 high                        yes   STAY  14674  \n",
              "6                  avg                        yes  LEAVE  19100  \n",
              "7                 high                        yes   STAY  18170  \n",
              "8                  low                         no  LEAVE   3201  \n",
              "9                  low                        yes  LEAVE  12612  "
            ],
            "text/html": [
              "\n",
              "  <div id=\"df-40a66071-f27a-488f-aad3-ab6bd76a4e06\">\n",
              "    <div class=\"colab-df-container\">\n",
              "      <div>\n",
              "<style scoped>\n",
              "    .dataframe tbody tr th:only-of-type {\n",
              "        vertical-align: middle;\n",
              "    }\n",
              "\n",
              "    .dataframe tbody tr th {\n",
              "        vertical-align: top;\n",
              "    }\n",
              "\n",
              "    .dataframe thead th {\n",
              "        text-align: right;\n",
              "    }\n",
              "</style>\n",
              "<table border=\"1\" class=\"dataframe\">\n",
              "  <thead>\n",
              "    <tr style=\"text-align: right;\">\n",
              "      <th></th>\n",
              "      <th>college</th>\n",
              "      <th>income</th>\n",
              "      <th>overage</th>\n",
              "      <th>leftover</th>\n",
              "      <th>house</th>\n",
              "      <th>handset_price</th>\n",
              "      <th>over_15mins_calls_per_month</th>\n",
              "      <th>average_call_duration</th>\n",
              "      <th>reported_satisfaction</th>\n",
              "      <th>reported_usage_level</th>\n",
              "      <th>considering_change_of_plan</th>\n",
              "      <th>leave</th>\n",
              "      <th>id</th>\n",
              "    </tr>\n",
              "  </thead>\n",
              "  <tbody>\n",
              "    <tr>\n",
              "      <th>0</th>\n",
              "      <td>one</td>\n",
              "      <td>23859</td>\n",
              "      <td>70</td>\n",
              "      <td>0</td>\n",
              "      <td>519105</td>\n",
              "      <td>154</td>\n",
              "      <td>5.0</td>\n",
              "      <td>8</td>\n",
              "      <td>low</td>\n",
              "      <td>low</td>\n",
              "      <td>yes</td>\n",
              "      <td>LEAVE</td>\n",
              "      <td>8183</td>\n",
              "    </tr>\n",
              "    <tr>\n",
              "      <th>1</th>\n",
              "      <td>zero</td>\n",
              "      <td>72466</td>\n",
              "      <td>67</td>\n",
              "      <td>16</td>\n",
              "      <td>271182</td>\n",
              "      <td>262</td>\n",
              "      <td>5.0</td>\n",
              "      <td>5</td>\n",
              "      <td>low</td>\n",
              "      <td>low</td>\n",
              "      <td>yes</td>\n",
              "      <td>LEAVE</td>\n",
              "      <td>12501</td>\n",
              "    </tr>\n",
              "    <tr>\n",
              "      <th>2</th>\n",
              "      <td>zero</td>\n",
              "      <td>30883</td>\n",
              "      <td>60</td>\n",
              "      <td>0</td>\n",
              "      <td>647281</td>\n",
              "      <td>211</td>\n",
              "      <td>3.0</td>\n",
              "      <td>8</td>\n",
              "      <td>low</td>\n",
              "      <td>low</td>\n",
              "      <td>yes</td>\n",
              "      <td>STAY</td>\n",
              "      <td>7425</td>\n",
              "    </tr>\n",
              "    <tr>\n",
              "      <th>3</th>\n",
              "      <td>one</td>\n",
              "      <td>44512</td>\n",
              "      <td>0</td>\n",
              "      <td>22</td>\n",
              "      <td>754958</td>\n",
              "      <td>232</td>\n",
              "      <td>0.0</td>\n",
              "      <td>5</td>\n",
              "      <td>low</td>\n",
              "      <td>low</td>\n",
              "      <td>no</td>\n",
              "      <td>LEAVE</td>\n",
              "      <td>13488</td>\n",
              "    </tr>\n",
              "    <tr>\n",
              "      <th>4</th>\n",
              "      <td>zero</td>\n",
              "      <td>70535</td>\n",
              "      <td>0</td>\n",
              "      <td>0</td>\n",
              "      <td>653421</td>\n",
              "      <td>310</td>\n",
              "      <td>0.0</td>\n",
              "      <td>14</td>\n",
              "      <td>low</td>\n",
              "      <td>low</td>\n",
              "      <td>yes</td>\n",
              "      <td>STAY</td>\n",
              "      <td>11389</td>\n",
              "    </tr>\n",
              "    <tr>\n",
              "      <th>5</th>\n",
              "      <td>zero</td>\n",
              "      <td>143987</td>\n",
              "      <td>0</td>\n",
              "      <td>56</td>\n",
              "      <td>896544</td>\n",
              "      <td>778</td>\n",
              "      <td>5.0</td>\n",
              "      <td>1</td>\n",
              "      <td>low</td>\n",
              "      <td>high</td>\n",
              "      <td>yes</td>\n",
              "      <td>STAY</td>\n",
              "      <td>14674</td>\n",
              "    </tr>\n",
              "    <tr>\n",
              "      <th>6</th>\n",
              "      <td>one</td>\n",
              "      <td>96668</td>\n",
              "      <td>79</td>\n",
              "      <td>24</td>\n",
              "      <td>259329</td>\n",
              "      <td>365</td>\n",
              "      <td>5.0</td>\n",
              "      <td>6</td>\n",
              "      <td>low</td>\n",
              "      <td>avg</td>\n",
              "      <td>yes</td>\n",
              "      <td>LEAVE</td>\n",
              "      <td>19100</td>\n",
              "    </tr>\n",
              "    <tr>\n",
              "      <th>7</th>\n",
              "      <td>one</td>\n",
              "      <td>50083</td>\n",
              "      <td>0</td>\n",
              "      <td>0</td>\n",
              "      <td>160335</td>\n",
              "      <td>266</td>\n",
              "      <td>5.0</td>\n",
              "      <td>10</td>\n",
              "      <td>low</td>\n",
              "      <td>high</td>\n",
              "      <td>yes</td>\n",
              "      <td>STAY</td>\n",
              "      <td>18170</td>\n",
              "    </tr>\n",
              "    <tr>\n",
              "      <th>8</th>\n",
              "      <td>one</td>\n",
              "      <td>104392</td>\n",
              "      <td>0</td>\n",
              "      <td>0</td>\n",
              "      <td>247836</td>\n",
              "      <td>778</td>\n",
              "      <td>1.0</td>\n",
              "      <td>8</td>\n",
              "      <td>high</td>\n",
              "      <td>low</td>\n",
              "      <td>no</td>\n",
              "      <td>LEAVE</td>\n",
              "      <td>3201</td>\n",
              "    </tr>\n",
              "    <tr>\n",
              "      <th>9</th>\n",
              "      <td>one</td>\n",
              "      <td>37852</td>\n",
              "      <td>0</td>\n",
              "      <td>74</td>\n",
              "      <td>264893</td>\n",
              "      <td>857</td>\n",
              "      <td>0.0</td>\n",
              "      <td>2</td>\n",
              "      <td>low</td>\n",
              "      <td>low</td>\n",
              "      <td>yes</td>\n",
              "      <td>LEAVE</td>\n",
              "      <td>12612</td>\n",
              "    </tr>\n",
              "  </tbody>\n",
              "</table>\n",
              "</div>\n",
              "      <button class=\"colab-df-convert\" onclick=\"convertToInteractive('df-40a66071-f27a-488f-aad3-ab6bd76a4e06')\"\n",
              "              title=\"Convert this dataframe to an interactive table.\"\n",
              "              style=\"display:none;\">\n",
              "        \n",
              "  <svg xmlns=\"http://www.w3.org/2000/svg\" height=\"24px\"viewBox=\"0 0 24 24\"\n",
              "       width=\"24px\">\n",
              "    <path d=\"M0 0h24v24H0V0z\" fill=\"none\"/>\n",
              "    <path d=\"M18.56 5.44l.94 2.06.94-2.06 2.06-.94-2.06-.94-.94-2.06-.94 2.06-2.06.94zm-11 1L8.5 8.5l.94-2.06 2.06-.94-2.06-.94L8.5 2.5l-.94 2.06-2.06.94zm10 10l.94 2.06.94-2.06 2.06-.94-2.06-.94-.94-2.06-.94 2.06-2.06.94z\"/><path d=\"M17.41 7.96l-1.37-1.37c-.4-.4-.92-.59-1.43-.59-.52 0-1.04.2-1.43.59L10.3 9.45l-7.72 7.72c-.78.78-.78 2.05 0 2.83L4 21.41c.39.39.9.59 1.41.59.51 0 1.02-.2 1.41-.59l7.78-7.78 2.81-2.81c.8-.78.8-2.07 0-2.86zM5.41 20L4 18.59l7.72-7.72 1.47 1.35L5.41 20z\"/>\n",
              "  </svg>\n",
              "      </button>\n",
              "      \n",
              "  <style>\n",
              "    .colab-df-container {\n",
              "      display:flex;\n",
              "      flex-wrap:wrap;\n",
              "      gap: 12px;\n",
              "    }\n",
              "\n",
              "    .colab-df-convert {\n",
              "      background-color: #E8F0FE;\n",
              "      border: none;\n",
              "      border-radius: 50%;\n",
              "      cursor: pointer;\n",
              "      display: none;\n",
              "      fill: #1967D2;\n",
              "      height: 32px;\n",
              "      padding: 0 0 0 0;\n",
              "      width: 32px;\n",
              "    }\n",
              "\n",
              "    .colab-df-convert:hover {\n",
              "      background-color: #E2EBFA;\n",
              "      box-shadow: 0px 1px 2px rgba(60, 64, 67, 0.3), 0px 1px 3px 1px rgba(60, 64, 67, 0.15);\n",
              "      fill: #174EA6;\n",
              "    }\n",
              "\n",
              "    [theme=dark] .colab-df-convert {\n",
              "      background-color: #3B4455;\n",
              "      fill: #D2E3FC;\n",
              "    }\n",
              "\n",
              "    [theme=dark] .colab-df-convert:hover {\n",
              "      background-color: #434B5C;\n",
              "      box-shadow: 0px 1px 3px 1px rgba(0, 0, 0, 0.15);\n",
              "      filter: drop-shadow(0px 1px 2px rgba(0, 0, 0, 0.3));\n",
              "      fill: #FFFFFF;\n",
              "    }\n",
              "  </style>\n",
              "\n",
              "      <script>\n",
              "        const buttonEl =\n",
              "          document.querySelector('#df-40a66071-f27a-488f-aad3-ab6bd76a4e06 button.colab-df-convert');\n",
              "        buttonEl.style.display =\n",
              "          google.colab.kernel.accessAllowed ? 'block' : 'none';\n",
              "\n",
              "        async function convertToInteractive(key) {\n",
              "          const element = document.querySelector('#df-40a66071-f27a-488f-aad3-ab6bd76a4e06');\n",
              "          const dataTable =\n",
              "            await google.colab.kernel.invokeFunction('convertToInteractive',\n",
              "                                                     [key], {});\n",
              "          if (!dataTable) return;\n",
              "\n",
              "          const docLinkHtml = 'Like what you see? Visit the ' +\n",
              "            '<a target=\"_blank\" href=https://colab.research.google.com/notebooks/data_table.ipynb>data table notebook</a>'\n",
              "            + ' to learn more about interactive tables.';\n",
              "          element.innerHTML = '';\n",
              "          dataTable['output_type'] = 'display_data';\n",
              "          await google.colab.output.renderOutput(dataTable, element);\n",
              "          const docLink = document.createElement('div');\n",
              "          docLink.innerHTML = docLinkHtml;\n",
              "          element.appendChild(docLink);\n",
              "        }\n",
              "      </script>\n",
              "    </div>\n",
              "  </div>\n",
              "  "
            ]
          },
          "metadata": {},
          "execution_count": 3
        }
      ]
    },
    {
      "cell_type": "code",
      "metadata": {
        "id": "AK7y336xJ3-6",
        "colab": {
          "base_uri": "https://localhost:8080/"
        },
        "outputId": "cf895acb-1c1d-44f4-f041-a34115669f7f"
      },
      "source": [
        "#look at the datatypes\n",
        "df.info()"
      ],
      "execution_count": 4,
      "outputs": [
        {
          "output_type": "stream",
          "name": "stdout",
          "text": [
            "<class 'pandas.core.frame.DataFrame'>\n",
            "RangeIndex: 5000 entries, 0 to 4999\n",
            "Data columns (total 13 columns):\n",
            " #   Column                       Non-Null Count  Dtype  \n",
            "---  ------                       --------------  -----  \n",
            " 0   college                      5000 non-null   object \n",
            " 1   income                       5000 non-null   int64  \n",
            " 2   overage                      5000 non-null   int64  \n",
            " 3   leftover                     5000 non-null   int64  \n",
            " 4   house                        5000 non-null   int64  \n",
            " 5   handset_price                5000 non-null   int64  \n",
            " 6   over_15mins_calls_per_month  4997 non-null   float64\n",
            " 7   average_call_duration        5000 non-null   int64  \n",
            " 8   reported_satisfaction        5000 non-null   object \n",
            " 9   reported_usage_level         5000 non-null   object \n",
            " 10  considering_change_of_plan   5000 non-null   object \n",
            " 11  leave                        5000 non-null   object \n",
            " 12  id                           5000 non-null   int64  \n",
            "dtypes: float64(1), int64(7), object(5)\n",
            "memory usage: 507.9+ KB\n"
          ]
        }
      ]
    },
    {
      "cell_type": "code",
      "metadata": {
        "id": "udYgkb6I3SJo",
        "colab": {
          "base_uri": "https://localhost:8080/",
          "height": 300
        },
        "outputId": "5ff7bf53-f199-4abf-d219-3d7f963d50aa"
      },
      "source": [
        "#describe the data before cleaning it\n",
        "df.describe()"
      ],
      "execution_count": 5,
      "outputs": [
        {
          "output_type": "execute_result",
          "data": {
            "text/plain": [
              "              income      overage     leftover           house  handset_price  \\\n",
              "count    5000.000000  5000.000000  5000.000000     5000.000000   5.000000e+03   \n",
              "mean    79912.948400    85.119200    24.243600   493656.326600   7.876236e+02   \n",
              "std     41703.042384    85.655622    26.847496   254287.193865   2.828291e+04   \n",
              "min    -28811.000000     0.000000     0.000000  -796132.000000   1.300000e+02   \n",
              "25%     41592.500000     0.000000     0.000000   260586.500000   2.190000e+02   \n",
              "50%     75041.500000    59.000000    15.000000   451865.500000   3.220000e+02   \n",
              "75%    115475.000000   177.000000    42.000000   701608.750000   5.280000e+02   \n",
              "max    159938.000000   335.000000    89.000000  1000000.000000   2.000234e+06   \n",
              "\n",
              "       over_15mins_calls_per_month  average_call_duration            id  \n",
              "count                  4997.000000            5000.000000   5000.000000  \n",
              "mean                      7.744647               5.958800  10036.639400  \n",
              "std                       8.806070               4.390417   5813.620304  \n",
              "min                       0.000000               1.000000      2.000000  \n",
              "25%                       1.000000               2.000000   4950.500000  \n",
              "50%                       4.000000               5.000000  10126.000000  \n",
              "75%                      14.000000               9.000000  15085.250000  \n",
              "max                      29.000000              15.000000  20000.000000  "
            ],
            "text/html": [
              "\n",
              "  <div id=\"df-16909e84-d30f-4e83-b54a-4317af49f179\">\n",
              "    <div class=\"colab-df-container\">\n",
              "      <div>\n",
              "<style scoped>\n",
              "    .dataframe tbody tr th:only-of-type {\n",
              "        vertical-align: middle;\n",
              "    }\n",
              "\n",
              "    .dataframe tbody tr th {\n",
              "        vertical-align: top;\n",
              "    }\n",
              "\n",
              "    .dataframe thead th {\n",
              "        text-align: right;\n",
              "    }\n",
              "</style>\n",
              "<table border=\"1\" class=\"dataframe\">\n",
              "  <thead>\n",
              "    <tr style=\"text-align: right;\">\n",
              "      <th></th>\n",
              "      <th>income</th>\n",
              "      <th>overage</th>\n",
              "      <th>leftover</th>\n",
              "      <th>house</th>\n",
              "      <th>handset_price</th>\n",
              "      <th>over_15mins_calls_per_month</th>\n",
              "      <th>average_call_duration</th>\n",
              "      <th>id</th>\n",
              "    </tr>\n",
              "  </thead>\n",
              "  <tbody>\n",
              "    <tr>\n",
              "      <th>count</th>\n",
              "      <td>5000.000000</td>\n",
              "      <td>5000.000000</td>\n",
              "      <td>5000.000000</td>\n",
              "      <td>5000.000000</td>\n",
              "      <td>5.000000e+03</td>\n",
              "      <td>4997.000000</td>\n",
              "      <td>5000.000000</td>\n",
              "      <td>5000.000000</td>\n",
              "    </tr>\n",
              "    <tr>\n",
              "      <th>mean</th>\n",
              "      <td>79912.948400</td>\n",
              "      <td>85.119200</td>\n",
              "      <td>24.243600</td>\n",
              "      <td>493656.326600</td>\n",
              "      <td>7.876236e+02</td>\n",
              "      <td>7.744647</td>\n",
              "      <td>5.958800</td>\n",
              "      <td>10036.639400</td>\n",
              "    </tr>\n",
              "    <tr>\n",
              "      <th>std</th>\n",
              "      <td>41703.042384</td>\n",
              "      <td>85.655622</td>\n",
              "      <td>26.847496</td>\n",
              "      <td>254287.193865</td>\n",
              "      <td>2.828291e+04</td>\n",
              "      <td>8.806070</td>\n",
              "      <td>4.390417</td>\n",
              "      <td>5813.620304</td>\n",
              "    </tr>\n",
              "    <tr>\n",
              "      <th>min</th>\n",
              "      <td>-28811.000000</td>\n",
              "      <td>0.000000</td>\n",
              "      <td>0.000000</td>\n",
              "      <td>-796132.000000</td>\n",
              "      <td>1.300000e+02</td>\n",
              "      <td>0.000000</td>\n",
              "      <td>1.000000</td>\n",
              "      <td>2.000000</td>\n",
              "    </tr>\n",
              "    <tr>\n",
              "      <th>25%</th>\n",
              "      <td>41592.500000</td>\n",
              "      <td>0.000000</td>\n",
              "      <td>0.000000</td>\n",
              "      <td>260586.500000</td>\n",
              "      <td>2.190000e+02</td>\n",
              "      <td>1.000000</td>\n",
              "      <td>2.000000</td>\n",
              "      <td>4950.500000</td>\n",
              "    </tr>\n",
              "    <tr>\n",
              "      <th>50%</th>\n",
              "      <td>75041.500000</td>\n",
              "      <td>59.000000</td>\n",
              "      <td>15.000000</td>\n",
              "      <td>451865.500000</td>\n",
              "      <td>3.220000e+02</td>\n",
              "      <td>4.000000</td>\n",
              "      <td>5.000000</td>\n",
              "      <td>10126.000000</td>\n",
              "    </tr>\n",
              "    <tr>\n",
              "      <th>75%</th>\n",
              "      <td>115475.000000</td>\n",
              "      <td>177.000000</td>\n",
              "      <td>42.000000</td>\n",
              "      <td>701608.750000</td>\n",
              "      <td>5.280000e+02</td>\n",
              "      <td>14.000000</td>\n",
              "      <td>9.000000</td>\n",
              "      <td>15085.250000</td>\n",
              "    </tr>\n",
              "    <tr>\n",
              "      <th>max</th>\n",
              "      <td>159938.000000</td>\n",
              "      <td>335.000000</td>\n",
              "      <td>89.000000</td>\n",
              "      <td>1000000.000000</td>\n",
              "      <td>2.000234e+06</td>\n",
              "      <td>29.000000</td>\n",
              "      <td>15.000000</td>\n",
              "      <td>20000.000000</td>\n",
              "    </tr>\n",
              "  </tbody>\n",
              "</table>\n",
              "</div>\n",
              "      <button class=\"colab-df-convert\" onclick=\"convertToInteractive('df-16909e84-d30f-4e83-b54a-4317af49f179')\"\n",
              "              title=\"Convert this dataframe to an interactive table.\"\n",
              "              style=\"display:none;\">\n",
              "        \n",
              "  <svg xmlns=\"http://www.w3.org/2000/svg\" height=\"24px\"viewBox=\"0 0 24 24\"\n",
              "       width=\"24px\">\n",
              "    <path d=\"M0 0h24v24H0V0z\" fill=\"none\"/>\n",
              "    <path d=\"M18.56 5.44l.94 2.06.94-2.06 2.06-.94-2.06-.94-.94-2.06-.94 2.06-2.06.94zm-11 1L8.5 8.5l.94-2.06 2.06-.94-2.06-.94L8.5 2.5l-.94 2.06-2.06.94zm10 10l.94 2.06.94-2.06 2.06-.94-2.06-.94-.94-2.06-.94 2.06-2.06.94z\"/><path d=\"M17.41 7.96l-1.37-1.37c-.4-.4-.92-.59-1.43-.59-.52 0-1.04.2-1.43.59L10.3 9.45l-7.72 7.72c-.78.78-.78 2.05 0 2.83L4 21.41c.39.39.9.59 1.41.59.51 0 1.02-.2 1.41-.59l7.78-7.78 2.81-2.81c.8-.78.8-2.07 0-2.86zM5.41 20L4 18.59l7.72-7.72 1.47 1.35L5.41 20z\"/>\n",
              "  </svg>\n",
              "      </button>\n",
              "      \n",
              "  <style>\n",
              "    .colab-df-container {\n",
              "      display:flex;\n",
              "      flex-wrap:wrap;\n",
              "      gap: 12px;\n",
              "    }\n",
              "\n",
              "    .colab-df-convert {\n",
              "      background-color: #E8F0FE;\n",
              "      border: none;\n",
              "      border-radius: 50%;\n",
              "      cursor: pointer;\n",
              "      display: none;\n",
              "      fill: #1967D2;\n",
              "      height: 32px;\n",
              "      padding: 0 0 0 0;\n",
              "      width: 32px;\n",
              "    }\n",
              "\n",
              "    .colab-df-convert:hover {\n",
              "      background-color: #E2EBFA;\n",
              "      box-shadow: 0px 1px 2px rgba(60, 64, 67, 0.3), 0px 1px 3px 1px rgba(60, 64, 67, 0.15);\n",
              "      fill: #174EA6;\n",
              "    }\n",
              "\n",
              "    [theme=dark] .colab-df-convert {\n",
              "      background-color: #3B4455;\n",
              "      fill: #D2E3FC;\n",
              "    }\n",
              "\n",
              "    [theme=dark] .colab-df-convert:hover {\n",
              "      background-color: #434B5C;\n",
              "      box-shadow: 0px 1px 3px 1px rgba(0, 0, 0, 0.15);\n",
              "      filter: drop-shadow(0px 1px 2px rgba(0, 0, 0, 0.3));\n",
              "      fill: #FFFFFF;\n",
              "    }\n",
              "  </style>\n",
              "\n",
              "      <script>\n",
              "        const buttonEl =\n",
              "          document.querySelector('#df-16909e84-d30f-4e83-b54a-4317af49f179 button.colab-df-convert');\n",
              "        buttonEl.style.display =\n",
              "          google.colab.kernel.accessAllowed ? 'block' : 'none';\n",
              "\n",
              "        async function convertToInteractive(key) {\n",
              "          const element = document.querySelector('#df-16909e84-d30f-4e83-b54a-4317af49f179');\n",
              "          const dataTable =\n",
              "            await google.colab.kernel.invokeFunction('convertToInteractive',\n",
              "                                                     [key], {});\n",
              "          if (!dataTable) return;\n",
              "\n",
              "          const docLinkHtml = 'Like what you see? Visit the ' +\n",
              "            '<a target=\"_blank\" href=https://colab.research.google.com/notebooks/data_table.ipynb>data table notebook</a>'\n",
              "            + ' to learn more about interactive tables.';\n",
              "          element.innerHTML = '';\n",
              "          dataTable['output_type'] = 'display_data';\n",
              "          await google.colab.output.renderOutput(dataTable, element);\n",
              "          const docLink = document.createElement('div');\n",
              "          docLink.innerHTML = docLinkHtml;\n",
              "          element.appendChild(docLink);\n",
              "        }\n",
              "      </script>\n",
              "    </div>\n",
              "  </div>\n",
              "  "
            ]
          },
          "metadata": {},
          "execution_count": 5
        }
      ]
    },
    {
      "cell_type": "markdown",
      "metadata": {
        "id": "BtxOWvFlKzgE"
      },
      "source": [
        "## Clean up the data\n",
        "Did you notice anything unusual about the \"house\" amounts? \n",
        "\n",
        "How about the handset price and income?\n",
        "\n",
        "Clean up the data in a  new datafram named \"df_clean\"\n"
      ]
    },
    {
      "cell_type": "code",
      "metadata": {
        "id": "7KXLvMcBK8Za",
        "colab": {
          "base_uri": "https://localhost:8080/",
          "height": 300
        },
        "outputId": "3139c6d3-5011-4e30-d941-19a681a17c7c"
      },
      "source": [
        "#delete rows with outlier data; put it in a new dataframe\n",
        "df_clean = df[(df['house'] > 0) & (df['income'] > 0) & (df['handset_price'] < 1000)]\n",
        "\n",
        "#delete any rows with missing values in the clean dataframe\n",
        "df_clean = df_clean.dropna() \n",
        "\n",
        "df_clean.describe()"
      ],
      "execution_count": 6,
      "outputs": [
        {
          "output_type": "execute_result",
          "data": {
            "text/plain": [
              "              income      overage     leftover           house  handset_price  \\\n",
              "count    4994.000000  4994.000000  4994.000000     4994.000000    4994.000000   \n",
              "mean    79911.270525    85.114738    24.244694   493946.252903     387.616340   \n",
              "std     41683.689543    85.610045    26.844259   253599.007645     213.659555   \n",
              "min     20028.000000     0.000000     0.000000   150305.000000     130.000000   \n",
              "25%     41591.500000     0.000000     0.000000   260741.500000     219.000000   \n",
              "50%     74962.500000    59.000000    15.000000   452087.500000     322.000000   \n",
              "75%    115497.000000   177.000000    42.000000   701612.250000     528.000000   \n",
              "max    159938.000000   335.000000    89.000000  1000000.000000     899.000000   \n",
              "\n",
              "       over_15mins_calls_per_month  average_call_duration            id  \n",
              "count                  4994.000000            4994.000000   4994.000000  \n",
              "mean                      7.739287               5.957549  10032.925110  \n",
              "std                       8.802897               4.389439   5815.013219  \n",
              "min                       0.000000               1.000000      2.000000  \n",
              "25%                       1.000000               2.000000   4943.000000  \n",
              "50%                       4.000000               5.000000  10124.000000  \n",
              "75%                      14.000000               9.000000  15082.750000  \n",
              "max                      29.000000              15.000000  20000.000000  "
            ],
            "text/html": [
              "\n",
              "  <div id=\"df-cd335604-26a4-4630-893f-35073ee47a62\">\n",
              "    <div class=\"colab-df-container\">\n",
              "      <div>\n",
              "<style scoped>\n",
              "    .dataframe tbody tr th:only-of-type {\n",
              "        vertical-align: middle;\n",
              "    }\n",
              "\n",
              "    .dataframe tbody tr th {\n",
              "        vertical-align: top;\n",
              "    }\n",
              "\n",
              "    .dataframe thead th {\n",
              "        text-align: right;\n",
              "    }\n",
              "</style>\n",
              "<table border=\"1\" class=\"dataframe\">\n",
              "  <thead>\n",
              "    <tr style=\"text-align: right;\">\n",
              "      <th></th>\n",
              "      <th>income</th>\n",
              "      <th>overage</th>\n",
              "      <th>leftover</th>\n",
              "      <th>house</th>\n",
              "      <th>handset_price</th>\n",
              "      <th>over_15mins_calls_per_month</th>\n",
              "      <th>average_call_duration</th>\n",
              "      <th>id</th>\n",
              "    </tr>\n",
              "  </thead>\n",
              "  <tbody>\n",
              "    <tr>\n",
              "      <th>count</th>\n",
              "      <td>4994.000000</td>\n",
              "      <td>4994.000000</td>\n",
              "      <td>4994.000000</td>\n",
              "      <td>4994.000000</td>\n",
              "      <td>4994.000000</td>\n",
              "      <td>4994.000000</td>\n",
              "      <td>4994.000000</td>\n",
              "      <td>4994.000000</td>\n",
              "    </tr>\n",
              "    <tr>\n",
              "      <th>mean</th>\n",
              "      <td>79911.270525</td>\n",
              "      <td>85.114738</td>\n",
              "      <td>24.244694</td>\n",
              "      <td>493946.252903</td>\n",
              "      <td>387.616340</td>\n",
              "      <td>7.739287</td>\n",
              "      <td>5.957549</td>\n",
              "      <td>10032.925110</td>\n",
              "    </tr>\n",
              "    <tr>\n",
              "      <th>std</th>\n",
              "      <td>41683.689543</td>\n",
              "      <td>85.610045</td>\n",
              "      <td>26.844259</td>\n",
              "      <td>253599.007645</td>\n",
              "      <td>213.659555</td>\n",
              "      <td>8.802897</td>\n",
              "      <td>4.389439</td>\n",
              "      <td>5815.013219</td>\n",
              "    </tr>\n",
              "    <tr>\n",
              "      <th>min</th>\n",
              "      <td>20028.000000</td>\n",
              "      <td>0.000000</td>\n",
              "      <td>0.000000</td>\n",
              "      <td>150305.000000</td>\n",
              "      <td>130.000000</td>\n",
              "      <td>0.000000</td>\n",
              "      <td>1.000000</td>\n",
              "      <td>2.000000</td>\n",
              "    </tr>\n",
              "    <tr>\n",
              "      <th>25%</th>\n",
              "      <td>41591.500000</td>\n",
              "      <td>0.000000</td>\n",
              "      <td>0.000000</td>\n",
              "      <td>260741.500000</td>\n",
              "      <td>219.000000</td>\n",
              "      <td>1.000000</td>\n",
              "      <td>2.000000</td>\n",
              "      <td>4943.000000</td>\n",
              "    </tr>\n",
              "    <tr>\n",
              "      <th>50%</th>\n",
              "      <td>74962.500000</td>\n",
              "      <td>59.000000</td>\n",
              "      <td>15.000000</td>\n",
              "      <td>452087.500000</td>\n",
              "      <td>322.000000</td>\n",
              "      <td>4.000000</td>\n",
              "      <td>5.000000</td>\n",
              "      <td>10124.000000</td>\n",
              "    </tr>\n",
              "    <tr>\n",
              "      <th>75%</th>\n",
              "      <td>115497.000000</td>\n",
              "      <td>177.000000</td>\n",
              "      <td>42.000000</td>\n",
              "      <td>701612.250000</td>\n",
              "      <td>528.000000</td>\n",
              "      <td>14.000000</td>\n",
              "      <td>9.000000</td>\n",
              "      <td>15082.750000</td>\n",
              "    </tr>\n",
              "    <tr>\n",
              "      <th>max</th>\n",
              "      <td>159938.000000</td>\n",
              "      <td>335.000000</td>\n",
              "      <td>89.000000</td>\n",
              "      <td>1000000.000000</td>\n",
              "      <td>899.000000</td>\n",
              "      <td>29.000000</td>\n",
              "      <td>15.000000</td>\n",
              "      <td>20000.000000</td>\n",
              "    </tr>\n",
              "  </tbody>\n",
              "</table>\n",
              "</div>\n",
              "      <button class=\"colab-df-convert\" onclick=\"convertToInteractive('df-cd335604-26a4-4630-893f-35073ee47a62')\"\n",
              "              title=\"Convert this dataframe to an interactive table.\"\n",
              "              style=\"display:none;\">\n",
              "        \n",
              "  <svg xmlns=\"http://www.w3.org/2000/svg\" height=\"24px\"viewBox=\"0 0 24 24\"\n",
              "       width=\"24px\">\n",
              "    <path d=\"M0 0h24v24H0V0z\" fill=\"none\"/>\n",
              "    <path d=\"M18.56 5.44l.94 2.06.94-2.06 2.06-.94-2.06-.94-.94-2.06-.94 2.06-2.06.94zm-11 1L8.5 8.5l.94-2.06 2.06-.94-2.06-.94L8.5 2.5l-.94 2.06-2.06.94zm10 10l.94 2.06.94-2.06 2.06-.94-2.06-.94-.94-2.06-.94 2.06-2.06.94z\"/><path d=\"M17.41 7.96l-1.37-1.37c-.4-.4-.92-.59-1.43-.59-.52 0-1.04.2-1.43.59L10.3 9.45l-7.72 7.72c-.78.78-.78 2.05 0 2.83L4 21.41c.39.39.9.59 1.41.59.51 0 1.02-.2 1.41-.59l7.78-7.78 2.81-2.81c.8-.78.8-2.07 0-2.86zM5.41 20L4 18.59l7.72-7.72 1.47 1.35L5.41 20z\"/>\n",
              "  </svg>\n",
              "      </button>\n",
              "      \n",
              "  <style>\n",
              "    .colab-df-container {\n",
              "      display:flex;\n",
              "      flex-wrap:wrap;\n",
              "      gap: 12px;\n",
              "    }\n",
              "\n",
              "    .colab-df-convert {\n",
              "      background-color: #E8F0FE;\n",
              "      border: none;\n",
              "      border-radius: 50%;\n",
              "      cursor: pointer;\n",
              "      display: none;\n",
              "      fill: #1967D2;\n",
              "      height: 32px;\n",
              "      padding: 0 0 0 0;\n",
              "      width: 32px;\n",
              "    }\n",
              "\n",
              "    .colab-df-convert:hover {\n",
              "      background-color: #E2EBFA;\n",
              "      box-shadow: 0px 1px 2px rgba(60, 64, 67, 0.3), 0px 1px 3px 1px rgba(60, 64, 67, 0.15);\n",
              "      fill: #174EA6;\n",
              "    }\n",
              "\n",
              "    [theme=dark] .colab-df-convert {\n",
              "      background-color: #3B4455;\n",
              "      fill: #D2E3FC;\n",
              "    }\n",
              "\n",
              "    [theme=dark] .colab-df-convert:hover {\n",
              "      background-color: #434B5C;\n",
              "      box-shadow: 0px 1px 3px 1px rgba(0, 0, 0, 0.15);\n",
              "      filter: drop-shadow(0px 1px 2px rgba(0, 0, 0, 0.3));\n",
              "      fill: #FFFFFF;\n",
              "    }\n",
              "  </style>\n",
              "\n",
              "      <script>\n",
              "        const buttonEl =\n",
              "          document.querySelector('#df-cd335604-26a4-4630-893f-35073ee47a62 button.colab-df-convert');\n",
              "        buttonEl.style.display =\n",
              "          google.colab.kernel.accessAllowed ? 'block' : 'none';\n",
              "\n",
              "        async function convertToInteractive(key) {\n",
              "          const element = document.querySelector('#df-cd335604-26a4-4630-893f-35073ee47a62');\n",
              "          const dataTable =\n",
              "            await google.colab.kernel.invokeFunction('convertToInteractive',\n",
              "                                                     [key], {});\n",
              "          if (!dataTable) return;\n",
              "\n",
              "          const docLinkHtml = 'Like what you see? Visit the ' +\n",
              "            '<a target=\"_blank\" href=https://colab.research.google.com/notebooks/data_table.ipynb>data table notebook</a>'\n",
              "            + ' to learn more about interactive tables.';\n",
              "          element.innerHTML = '';\n",
              "          dataTable['output_type'] = 'display_data';\n",
              "          await google.colab.output.renderOutput(dataTable, element);\n",
              "          const docLink = document.createElement('div');\n",
              "          docLink.innerHTML = docLinkHtml;\n",
              "          element.appendChild(docLink);\n",
              "        }\n",
              "      </script>\n",
              "    </div>\n",
              "  </div>\n",
              "  "
            ]
          },
          "metadata": {},
          "execution_count": 6
        }
      ]
    },
    {
      "cell_type": "markdown",
      "metadata": {
        "id": "Zp7wGDqJ4iuL"
      },
      "source": [
        "# Standardize attributes\n",
        "\n",
        "- Convert \"college\" to 0,1\n",
        "- Convert reported_satisfaction to 1,2,3\n",
        "- Convert reported_usage_level to 1,2,3\n",
        "- Convert considering_change_of_plan to 0,1\n",
        "- Convert leave to 0,1\n",
        "\n",
        "I'm going to leave the \"leave\" variable in place, just in case I need the original value"
      ]
    },
    {
      "cell_type": "code",
      "metadata": {
        "id": "gvMekcKg4y5X",
        "colab": {
          "base_uri": "https://localhost:8080/",
          "height": 427
        },
        "outputId": "ce057794-b6e3-490f-d49c-67ffc83d90d6"
      },
      "source": [
        "df_clean.loc[df_clean['college'] == 'one', 'college'] = \"1\" \n",
        "df_clean.loc[df_clean['college'] == 'zero', 'college'] = \"0\"\n",
        "df_clean.loc[df_clean['reported_satisfaction'] == 'low', 'reported_satisfaction'] = \"1\"\n",
        "df_clean.loc[df_clean['reported_satisfaction'] == 'avg', 'reported_satisfaction'] = \"2\"\n",
        "df_clean.loc[df_clean['reported_satisfaction'] == 'high', 'reported_satisfaction'] = \"3\"\n",
        "df_clean.loc[df_clean['reported_usage_level'] == 'low', 'reported_usage_level'] = \"1\"\n",
        "df_clean.loc[df_clean['reported_usage_level'] == 'avg', 'reported_usage_level'] = \"2\"\n",
        "df_clean.loc[df_clean['reported_usage_level'] == 'high', 'reported_usage_level'] = \"3\"\n",
        "df_clean.loc[df_clean['considering_change_of_plan'] == 'yes', 'considering_change_of_plan'] = \"1\"\n",
        "df_clean.loc[df_clean['considering_change_of_plan'] == 'no', 'considering_change_of_plan'] = \"0\"\n",
        "df_clean.loc[df_clean['considering_change_of_plan'] == 'maybe', 'considering_change_of_plan'] = \"0.5\"\n",
        "\n",
        "df_clean['college'] = df_clean['college'].astype('int') \n",
        "df_clean['reported_satisfaction'] = df_clean['reported_satisfaction'].astype('int') \n",
        "df_clean['reported_usage_level'] = df_clean['reported_usage_level'].astype('int') \n",
        "df_clean['considering_change_of_plan'] = df_clean['considering_change_of_plan'].astype('float') \n",
        "\n",
        "#Add new field with binary value for leave  \n",
        "df_clean['leave_flag'] = df_clean['leave'].str.replace('STAY','0')  \n",
        "df_clean['leave_flag'] = df_clean['leave_flag'].str.replace('LEAVE','1')\n",
        "df_clean['leave_flag'] = df_clean['leave_flag'].astype('int')\n",
        "df_clean['leave_flag'] = df_clean['leave_flag'].astype('bool')\n",
        "\n",
        "df_clean.head(10) "
      ],
      "execution_count": 7,
      "outputs": [
        {
          "output_type": "execute_result",
          "data": {
            "text/plain": [
              "   college  income  overage  leftover   house  handset_price  \\\n",
              "0        1   23859       70         0  519105            154   \n",
              "1        0   72466       67        16  271182            262   \n",
              "2        0   30883       60         0  647281            211   \n",
              "3        1   44512        0        22  754958            232   \n",
              "4        0   70535        0         0  653421            310   \n",
              "5        0  143987        0        56  896544            778   \n",
              "6        1   96668       79        24  259329            365   \n",
              "7        1   50083        0         0  160335            266   \n",
              "8        1  104392        0         0  247836            778   \n",
              "9        1   37852        0        74  264893            857   \n",
              "\n",
              "   over_15mins_calls_per_month  average_call_duration  reported_satisfaction  \\\n",
              "0                          5.0                      8                      1   \n",
              "1                          5.0                      5                      1   \n",
              "2                          3.0                      8                      1   \n",
              "3                          0.0                      5                      1   \n",
              "4                          0.0                     14                      1   \n",
              "5                          5.0                      1                      1   \n",
              "6                          5.0                      6                      1   \n",
              "7                          5.0                     10                      1   \n",
              "8                          1.0                      8                      3   \n",
              "9                          0.0                      2                      1   \n",
              "\n",
              "   reported_usage_level  considering_change_of_plan  leave     id  leave_flag  \n",
              "0                     1                         1.0  LEAVE   8183        True  \n",
              "1                     1                         1.0  LEAVE  12501        True  \n",
              "2                     1                         1.0   STAY   7425       False  \n",
              "3                     1                         0.0  LEAVE  13488        True  \n",
              "4                     1                         1.0   STAY  11389       False  \n",
              "5                     3                         1.0   STAY  14674       False  \n",
              "6                     2                         1.0  LEAVE  19100        True  \n",
              "7                     3                         1.0   STAY  18170       False  \n",
              "8                     1                         0.0  LEAVE   3201        True  \n",
              "9                     1                         1.0  LEAVE  12612        True  "
            ],
            "text/html": [
              "\n",
              "  <div id=\"df-d7f9f35d-e72d-4522-bb2d-74726e7707d9\">\n",
              "    <div class=\"colab-df-container\">\n",
              "      <div>\n",
              "<style scoped>\n",
              "    .dataframe tbody tr th:only-of-type {\n",
              "        vertical-align: middle;\n",
              "    }\n",
              "\n",
              "    .dataframe tbody tr th {\n",
              "        vertical-align: top;\n",
              "    }\n",
              "\n",
              "    .dataframe thead th {\n",
              "        text-align: right;\n",
              "    }\n",
              "</style>\n",
              "<table border=\"1\" class=\"dataframe\">\n",
              "  <thead>\n",
              "    <tr style=\"text-align: right;\">\n",
              "      <th></th>\n",
              "      <th>college</th>\n",
              "      <th>income</th>\n",
              "      <th>overage</th>\n",
              "      <th>leftover</th>\n",
              "      <th>house</th>\n",
              "      <th>handset_price</th>\n",
              "      <th>over_15mins_calls_per_month</th>\n",
              "      <th>average_call_duration</th>\n",
              "      <th>reported_satisfaction</th>\n",
              "      <th>reported_usage_level</th>\n",
              "      <th>considering_change_of_plan</th>\n",
              "      <th>leave</th>\n",
              "      <th>id</th>\n",
              "      <th>leave_flag</th>\n",
              "    </tr>\n",
              "  </thead>\n",
              "  <tbody>\n",
              "    <tr>\n",
              "      <th>0</th>\n",
              "      <td>1</td>\n",
              "      <td>23859</td>\n",
              "      <td>70</td>\n",
              "      <td>0</td>\n",
              "      <td>519105</td>\n",
              "      <td>154</td>\n",
              "      <td>5.0</td>\n",
              "      <td>8</td>\n",
              "      <td>1</td>\n",
              "      <td>1</td>\n",
              "      <td>1.0</td>\n",
              "      <td>LEAVE</td>\n",
              "      <td>8183</td>\n",
              "      <td>True</td>\n",
              "    </tr>\n",
              "    <tr>\n",
              "      <th>1</th>\n",
              "      <td>0</td>\n",
              "      <td>72466</td>\n",
              "      <td>67</td>\n",
              "      <td>16</td>\n",
              "      <td>271182</td>\n",
              "      <td>262</td>\n",
              "      <td>5.0</td>\n",
              "      <td>5</td>\n",
              "      <td>1</td>\n",
              "      <td>1</td>\n",
              "      <td>1.0</td>\n",
              "      <td>LEAVE</td>\n",
              "      <td>12501</td>\n",
              "      <td>True</td>\n",
              "    </tr>\n",
              "    <tr>\n",
              "      <th>2</th>\n",
              "      <td>0</td>\n",
              "      <td>30883</td>\n",
              "      <td>60</td>\n",
              "      <td>0</td>\n",
              "      <td>647281</td>\n",
              "      <td>211</td>\n",
              "      <td>3.0</td>\n",
              "      <td>8</td>\n",
              "      <td>1</td>\n",
              "      <td>1</td>\n",
              "      <td>1.0</td>\n",
              "      <td>STAY</td>\n",
              "      <td>7425</td>\n",
              "      <td>False</td>\n",
              "    </tr>\n",
              "    <tr>\n",
              "      <th>3</th>\n",
              "      <td>1</td>\n",
              "      <td>44512</td>\n",
              "      <td>0</td>\n",
              "      <td>22</td>\n",
              "      <td>754958</td>\n",
              "      <td>232</td>\n",
              "      <td>0.0</td>\n",
              "      <td>5</td>\n",
              "      <td>1</td>\n",
              "      <td>1</td>\n",
              "      <td>0.0</td>\n",
              "      <td>LEAVE</td>\n",
              "      <td>13488</td>\n",
              "      <td>True</td>\n",
              "    </tr>\n",
              "    <tr>\n",
              "      <th>4</th>\n",
              "      <td>0</td>\n",
              "      <td>70535</td>\n",
              "      <td>0</td>\n",
              "      <td>0</td>\n",
              "      <td>653421</td>\n",
              "      <td>310</td>\n",
              "      <td>0.0</td>\n",
              "      <td>14</td>\n",
              "      <td>1</td>\n",
              "      <td>1</td>\n",
              "      <td>1.0</td>\n",
              "      <td>STAY</td>\n",
              "      <td>11389</td>\n",
              "      <td>False</td>\n",
              "    </tr>\n",
              "    <tr>\n",
              "      <th>5</th>\n",
              "      <td>0</td>\n",
              "      <td>143987</td>\n",
              "      <td>0</td>\n",
              "      <td>56</td>\n",
              "      <td>896544</td>\n",
              "      <td>778</td>\n",
              "      <td>5.0</td>\n",
              "      <td>1</td>\n",
              "      <td>1</td>\n",
              "      <td>3</td>\n",
              "      <td>1.0</td>\n",
              "      <td>STAY</td>\n",
              "      <td>14674</td>\n",
              "      <td>False</td>\n",
              "    </tr>\n",
              "    <tr>\n",
              "      <th>6</th>\n",
              "      <td>1</td>\n",
              "      <td>96668</td>\n",
              "      <td>79</td>\n",
              "      <td>24</td>\n",
              "      <td>259329</td>\n",
              "      <td>365</td>\n",
              "      <td>5.0</td>\n",
              "      <td>6</td>\n",
              "      <td>1</td>\n",
              "      <td>2</td>\n",
              "      <td>1.0</td>\n",
              "      <td>LEAVE</td>\n",
              "      <td>19100</td>\n",
              "      <td>True</td>\n",
              "    </tr>\n",
              "    <tr>\n",
              "      <th>7</th>\n",
              "      <td>1</td>\n",
              "      <td>50083</td>\n",
              "      <td>0</td>\n",
              "      <td>0</td>\n",
              "      <td>160335</td>\n",
              "      <td>266</td>\n",
              "      <td>5.0</td>\n",
              "      <td>10</td>\n",
              "      <td>1</td>\n",
              "      <td>3</td>\n",
              "      <td>1.0</td>\n",
              "      <td>STAY</td>\n",
              "      <td>18170</td>\n",
              "      <td>False</td>\n",
              "    </tr>\n",
              "    <tr>\n",
              "      <th>8</th>\n",
              "      <td>1</td>\n",
              "      <td>104392</td>\n",
              "      <td>0</td>\n",
              "      <td>0</td>\n",
              "      <td>247836</td>\n",
              "      <td>778</td>\n",
              "      <td>1.0</td>\n",
              "      <td>8</td>\n",
              "      <td>3</td>\n",
              "      <td>1</td>\n",
              "      <td>0.0</td>\n",
              "      <td>LEAVE</td>\n",
              "      <td>3201</td>\n",
              "      <td>True</td>\n",
              "    </tr>\n",
              "    <tr>\n",
              "      <th>9</th>\n",
              "      <td>1</td>\n",
              "      <td>37852</td>\n",
              "      <td>0</td>\n",
              "      <td>74</td>\n",
              "      <td>264893</td>\n",
              "      <td>857</td>\n",
              "      <td>0.0</td>\n",
              "      <td>2</td>\n",
              "      <td>1</td>\n",
              "      <td>1</td>\n",
              "      <td>1.0</td>\n",
              "      <td>LEAVE</td>\n",
              "      <td>12612</td>\n",
              "      <td>True</td>\n",
              "    </tr>\n",
              "  </tbody>\n",
              "</table>\n",
              "</div>\n",
              "      <button class=\"colab-df-convert\" onclick=\"convertToInteractive('df-d7f9f35d-e72d-4522-bb2d-74726e7707d9')\"\n",
              "              title=\"Convert this dataframe to an interactive table.\"\n",
              "              style=\"display:none;\">\n",
              "        \n",
              "  <svg xmlns=\"http://www.w3.org/2000/svg\" height=\"24px\"viewBox=\"0 0 24 24\"\n",
              "       width=\"24px\">\n",
              "    <path d=\"M0 0h24v24H0V0z\" fill=\"none\"/>\n",
              "    <path d=\"M18.56 5.44l.94 2.06.94-2.06 2.06-.94-2.06-.94-.94-2.06-.94 2.06-2.06.94zm-11 1L8.5 8.5l.94-2.06 2.06-.94-2.06-.94L8.5 2.5l-.94 2.06-2.06.94zm10 10l.94 2.06.94-2.06 2.06-.94-2.06-.94-.94-2.06-.94 2.06-2.06.94z\"/><path d=\"M17.41 7.96l-1.37-1.37c-.4-.4-.92-.59-1.43-.59-.52 0-1.04.2-1.43.59L10.3 9.45l-7.72 7.72c-.78.78-.78 2.05 0 2.83L4 21.41c.39.39.9.59 1.41.59.51 0 1.02-.2 1.41-.59l7.78-7.78 2.81-2.81c.8-.78.8-2.07 0-2.86zM5.41 20L4 18.59l7.72-7.72 1.47 1.35L5.41 20z\"/>\n",
              "  </svg>\n",
              "      </button>\n",
              "      \n",
              "  <style>\n",
              "    .colab-df-container {\n",
              "      display:flex;\n",
              "      flex-wrap:wrap;\n",
              "      gap: 12px;\n",
              "    }\n",
              "\n",
              "    .colab-df-convert {\n",
              "      background-color: #E8F0FE;\n",
              "      border: none;\n",
              "      border-radius: 50%;\n",
              "      cursor: pointer;\n",
              "      display: none;\n",
              "      fill: #1967D2;\n",
              "      height: 32px;\n",
              "      padding: 0 0 0 0;\n",
              "      width: 32px;\n",
              "    }\n",
              "\n",
              "    .colab-df-convert:hover {\n",
              "      background-color: #E2EBFA;\n",
              "      box-shadow: 0px 1px 2px rgba(60, 64, 67, 0.3), 0px 1px 3px 1px rgba(60, 64, 67, 0.15);\n",
              "      fill: #174EA6;\n",
              "    }\n",
              "\n",
              "    [theme=dark] .colab-df-convert {\n",
              "      background-color: #3B4455;\n",
              "      fill: #D2E3FC;\n",
              "    }\n",
              "\n",
              "    [theme=dark] .colab-df-convert:hover {\n",
              "      background-color: #434B5C;\n",
              "      box-shadow: 0px 1px 3px 1px rgba(0, 0, 0, 0.15);\n",
              "      filter: drop-shadow(0px 1px 2px rgba(0, 0, 0, 0.3));\n",
              "      fill: #FFFFFF;\n",
              "    }\n",
              "  </style>\n",
              "\n",
              "      <script>\n",
              "        const buttonEl =\n",
              "          document.querySelector('#df-d7f9f35d-e72d-4522-bb2d-74726e7707d9 button.colab-df-convert');\n",
              "        buttonEl.style.display =\n",
              "          google.colab.kernel.accessAllowed ? 'block' : 'none';\n",
              "\n",
              "        async function convertToInteractive(key) {\n",
              "          const element = document.querySelector('#df-d7f9f35d-e72d-4522-bb2d-74726e7707d9');\n",
              "          const dataTable =\n",
              "            await google.colab.kernel.invokeFunction('convertToInteractive',\n",
              "                                                     [key], {});\n",
              "          if (!dataTable) return;\n",
              "\n",
              "          const docLinkHtml = 'Like what you see? Visit the ' +\n",
              "            '<a target=\"_blank\" href=https://colab.research.google.com/notebooks/data_table.ipynb>data table notebook</a>'\n",
              "            + ' to learn more about interactive tables.';\n",
              "          element.innerHTML = '';\n",
              "          dataTable['output_type'] = 'display_data';\n",
              "          await google.colab.output.renderOutput(dataTable, element);\n",
              "          const docLink = document.createElement('div');\n",
              "          docLink.innerHTML = docLinkHtml;\n",
              "          element.appendChild(docLink);\n",
              "        }\n",
              "      </script>\n",
              "    </div>\n",
              "  </div>\n",
              "  "
            ]
          },
          "metadata": {},
          "execution_count": 7
        }
      ]
    },
    {
      "cell_type": "markdown",
      "metadata": {
        "id": "AuB0G9gJt7gn"
      },
      "source": [
        "# Convert attributes to factors\n",
        "\n",
        "- Leave\n",
        "- College\n",
        "- Reported satisfaction\n",
        "- Reported usage level\n",
        "- Considering change of plan"
      ]
    },
    {
      "cell_type": "code",
      "metadata": {
        "id": "inCqTVMDt6ex",
        "colab": {
          "base_uri": "https://localhost:8080/"
        },
        "outputId": "9c28debe-2696-4241-dc4b-4deb3882e69e"
      },
      "source": [
        "df_clean['leave'] = df_clean['leave'].astype('category')\n",
        "df_clean['college'] = df_clean['college'].astype('category')\n",
        "df_clean['reported_satisfaction'] = df_clean['reported_satisfaction'].astype('category')\n",
        "df_clean['reported_usage_level'] = df_clean['reported_usage_level'].astype('category')\n",
        "df_clean['considering_change_of_plan'] = df_clean['considering_change_of_plan'].astype('category')\n",
        "\n",
        "df_clean.info()"
      ],
      "execution_count": 8,
      "outputs": [
        {
          "output_type": "stream",
          "name": "stdout",
          "text": [
            "<class 'pandas.core.frame.DataFrame'>\n",
            "Int64Index: 4994 entries, 0 to 4999\n",
            "Data columns (total 14 columns):\n",
            " #   Column                       Non-Null Count  Dtype   \n",
            "---  ------                       --------------  -----   \n",
            " 0   college                      4994 non-null   category\n",
            " 1   income                       4994 non-null   int64   \n",
            " 2   overage                      4994 non-null   int64   \n",
            " 3   leftover                     4994 non-null   int64   \n",
            " 4   house                        4994 non-null   int64   \n",
            " 5   handset_price                4994 non-null   int64   \n",
            " 6   over_15mins_calls_per_month  4994 non-null   float64 \n",
            " 7   average_call_duration        4994 non-null   int64   \n",
            " 8   reported_satisfaction        4994 non-null   category\n",
            " 9   reported_usage_level         4994 non-null   category\n",
            " 10  considering_change_of_plan   4994 non-null   category\n",
            " 11  leave                        4994 non-null   category\n",
            " 12  id                           4994 non-null   int64   \n",
            " 13  leave_flag                   4994 non-null   bool    \n",
            "dtypes: bool(1), category(5), float64(1), int64(7)\n",
            "memory usage: 381.0 KB\n"
          ]
        }
      ]
    },
    {
      "cell_type": "markdown",
      "source": [
        "# What is the base probability of leaving?\n",
        "\n",
        "If we use no model at all, how good is our chance of predicting someone leaving?"
      ],
      "metadata": {
        "id": "SxpDe4NWKb3H"
      }
    },
    {
      "cell_type": "code",
      "source": [
        "df_clean['leave_flag'].mean()"
      ],
      "metadata": {
        "id": "g6JlH3TiKk16",
        "colab": {
          "base_uri": "https://localhost:8080/"
        },
        "outputId": "4f5c1ab7-d122-4087-a751-98b5b6c41271"
      },
      "execution_count": 9,
      "outputs": [
        {
          "output_type": "execute_result",
          "data": {
            "text/plain": [
              "0.4941930316379656"
            ]
          },
          "metadata": {},
          "execution_count": 9
        }
      ]
    },
    {
      "cell_type": "markdown",
      "source": [
        "#Split the training and testing datasets"
      ],
      "metadata": {
        "id": "0kqsDDZEt4iL"
      }
    },
    {
      "cell_type": "code",
      "source": [
        "# split the datafram into independent (x) and dependent (predicted) attributes (y)\n",
        "x = df_clean[['income','house','college','overage','leftover','handset_price','over_15mins_calls_per_month','average_call_duration']] #,'reported_satisfaction','reported_usage_level','considering_change_of_plan']]\n",
        "y = df_clean['leave_flag']\n",
        "\n",
        "#place 20% of data in a test dataframe\n",
        "x_train, x_test, y_train, y_test = train_test_split(x, y, test_size=0.2)"
      ],
      "metadata": {
        "id": "bRmlBElPt9eh"
      },
      "execution_count": 16,
      "outputs": []
    },
    {
      "cell_type": "markdown",
      "metadata": {
        "id": "SoJLJMlceORN"
      },
      "source": [
        "## Fit a basic tree model \n",
        "\n",
        "Use all available attributes"
      ]
    },
    {
      "cell_type": "code",
      "metadata": {
        "id": "WBH7aRXbOUf4"
      },
      "source": [
        "\n",
        "\n",
        "megatelco_tree = DecisionTreeClassifier(criterion=\"entropy\", max_depth=4)\n",
        "\n",
        "# Create Decision Tree Classifer\n",
        "megatelco_tree = megatelco_tree.fit(x_train,y_train)\n",
        "\n",
        "# Use the tree to predict \"leave\"\n",
        "y_predict = megatelco_tree.predict(x_test)\n",
        "\n",
        "\n"
      ],
      "execution_count": 17,
      "outputs": []
    },
    {
      "cell_type": "markdown",
      "source": [
        "## What is the accuracy?\n",
        "\n",
        "Is it better than the 49% base probability?"
      ],
      "metadata": {
        "id": "kS4-f2osS0s0"
      }
    },
    {
      "cell_type": "code",
      "source": [
        "print(\"Accuracy:\",metrics.accuracy_score(y_test, y_predict))"
      ],
      "metadata": {
        "id": "kl_KUqeqS6Nf",
        "colab": {
          "base_uri": "https://localhost:8080/"
        },
        "outputId": "a507f1be-32b6-4bac-b16c-8294de57794c"
      },
      "execution_count": 18,
      "outputs": [
        {
          "output_type": "stream",
          "name": "stdout",
          "text": [
            "Accuracy: 0.6806806806806807\n"
          ]
        }
      ]
    },
    {
      "cell_type": "markdown",
      "source": [
        "# Create a confusion matrix\n",
        "\n",
        "This will show false positives, true positives, etc."
      ],
      "metadata": {
        "id": "-I66jKusS_Xe"
      }
    },
    {
      "cell_type": "code",
      "source": [
        "# create a confusion matrix\n",
        "megatelco_tree_matrix = confusion_matrix(y_test, y_predict)\n",
        "print(megatelco_tree_matrix)"
      ],
      "metadata": {
        "id": "l_dKmgjmTGsj",
        "colab": {
          "base_uri": "https://localhost:8080/"
        },
        "outputId": "1c9e669d-ef26-455a-a6ba-df4f265eccdb"
      },
      "execution_count": 19,
      "outputs": [
        {
          "output_type": "stream",
          "name": "stdout",
          "text": [
            "[[291 221]\n",
            " [ 98 389]]\n"
          ]
        }
      ]
    },
    {
      "cell_type": "markdown",
      "source": [
        "## Plot the confusion matrix\n",
        "\n",
        "We will use a Seaborn library for this"
      ],
      "metadata": {
        "id": "sSNfQKZA3jg2"
      }
    },
    {
      "cell_type": "markdown",
      "source": [
        "#Create a heatmap from our confusion matrix\n",
        "cm = sns.heatmap(megatelco_tree_matrix, annot=True, fmt='d',cmap='Reds')\n",
        "\n",
        "cm.set_title('Confusion Matrix');\n",
        "cm.set_xlabel('Predicted')\n",
        "cm.set_ylabel('Observered (Actual)');\n",
        "\n",
        "cm.xaxis.set_ticklabels(['Stay','Leave'])\n",
        "cm.yaxis.set_ticklabels(['Stay','Leave'])"
      ],
      "metadata": {
        "id": "eVOSIP8SeYg3"
      }
    },
    {
      "cell_type": "markdown",
      "source": [
        "## Calculate Profit\n",
        "\n",
        "Using the confusion matrix in the previous question how much profit (revenue - costs) could be expected with these costs-benefits?\n",
        "\n",
        "For MegaTelCo we will assume benefit (revenue) = 800 and cost = 200.  TPs are a benefit, FPs are a cost. Again, we ignore those predicted to stay. (The cost-benefit numbers will be different in the AdviseInvest case! )\n",
        "\n",
        "Why are TPs a benefit? In the MegaTelCo scenario, these are customers who are predicted to leave and actually were going to leave. If your marketing campaign is successful, then you can convince them to stay, thereby saving the company money. (In the AdviseInvest scenario, TPs are customers that you have predicted will answer the phone and do answer, thus providing an opportunity for your sales reps to make a sale.)\n",
        "\n",
        "**Assume you can save 100% of the people who were actually going to leave.**  "
      ],
      "metadata": {
        "id": "vTC161_b9kWm"
      }
    },
    {
      "cell_type": "code",
      "source": [
        "# True leavers * 600 -> You rescued these leave-leave people\n",
        "# False leavers * 200 -> You wasted your money on the leave-stay people since they weren't actually going to leave\n",
        "276 * (800-200) - 310 * 200"
      ],
      "metadata": {
        "id": "y3BHSJu-9s8z",
        "colab": {
          "base_uri": "https://localhost:8080/"
        },
        "outputId": "7ac6b526-3565-44bd-cd33-f42130728ded"
      },
      "execution_count": 20,
      "outputs": [
        {
          "output_type": "execute_result",
          "data": {
            "text/plain": [
              "103600"
            ]
          },
          "metadata": {},
          "execution_count": 20
        }
      ]
    },
    {
      "cell_type": "markdown",
      "source": [
        "For reference, if you gave everyone the $800 incentive to stay (no model at all) you would have a 49% chance of being right.  We will do a rough calculation using 20% of the population counts to compare to our test group."
      ],
      "metadata": {
        "id": "rHipJ40o_Dlh"
      }
    },
    {
      "cell_type": "code",
      "source": [
        "df_clean[['id','leave']].groupby('leave').count()*0.20"
      ],
      "metadata": {
        "id": "ALXR1Da1_V7w",
        "colab": {
          "base_uri": "https://localhost:8080/",
          "height": 143
        },
        "outputId": "99742b32-9ea1-4340-9322-44b4a129c66a"
      },
      "execution_count": 56,
      "outputs": [
        {
          "output_type": "execute_result",
          "data": {
            "text/plain": [
              "          id\n",
              "leave       \n",
              "LEAVE  493.6\n",
              "STAY   505.2"
            ],
            "text/html": [
              "\n",
              "  <div id=\"df-14240c33-7a9b-4010-94ca-91dc244b16e4\">\n",
              "    <div class=\"colab-df-container\">\n",
              "      <div>\n",
              "<style scoped>\n",
              "    .dataframe tbody tr th:only-of-type {\n",
              "        vertical-align: middle;\n",
              "    }\n",
              "\n",
              "    .dataframe tbody tr th {\n",
              "        vertical-align: top;\n",
              "    }\n",
              "\n",
              "    .dataframe thead th {\n",
              "        text-align: right;\n",
              "    }\n",
              "</style>\n",
              "<table border=\"1\" class=\"dataframe\">\n",
              "  <thead>\n",
              "    <tr style=\"text-align: right;\">\n",
              "      <th></th>\n",
              "      <th>id</th>\n",
              "    </tr>\n",
              "    <tr>\n",
              "      <th>leave</th>\n",
              "      <th></th>\n",
              "    </tr>\n",
              "  </thead>\n",
              "  <tbody>\n",
              "    <tr>\n",
              "      <th>LEAVE</th>\n",
              "      <td>493.6</td>\n",
              "    </tr>\n",
              "    <tr>\n",
              "      <th>STAY</th>\n",
              "      <td>505.2</td>\n",
              "    </tr>\n",
              "  </tbody>\n",
              "</table>\n",
              "</div>\n",
              "      <button class=\"colab-df-convert\" onclick=\"convertToInteractive('df-14240c33-7a9b-4010-94ca-91dc244b16e4')\"\n",
              "              title=\"Convert this dataframe to an interactive table.\"\n",
              "              style=\"display:none;\">\n",
              "        \n",
              "  <svg xmlns=\"http://www.w3.org/2000/svg\" height=\"24px\"viewBox=\"0 0 24 24\"\n",
              "       width=\"24px\">\n",
              "    <path d=\"M0 0h24v24H0V0z\" fill=\"none\"/>\n",
              "    <path d=\"M18.56 5.44l.94 2.06.94-2.06 2.06-.94-2.06-.94-.94-2.06-.94 2.06-2.06.94zm-11 1L8.5 8.5l.94-2.06 2.06-.94-2.06-.94L8.5 2.5l-.94 2.06-2.06.94zm10 10l.94 2.06.94-2.06 2.06-.94-2.06-.94-.94-2.06-.94 2.06-2.06.94z\"/><path d=\"M17.41 7.96l-1.37-1.37c-.4-.4-.92-.59-1.43-.59-.52 0-1.04.2-1.43.59L10.3 9.45l-7.72 7.72c-.78.78-.78 2.05 0 2.83L4 21.41c.39.39.9.59 1.41.59.51 0 1.02-.2 1.41-.59l7.78-7.78 2.81-2.81c.8-.78.8-2.07 0-2.86zM5.41 20L4 18.59l7.72-7.72 1.47 1.35L5.41 20z\"/>\n",
              "  </svg>\n",
              "      </button>\n",
              "      \n",
              "  <style>\n",
              "    .colab-df-container {\n",
              "      display:flex;\n",
              "      flex-wrap:wrap;\n",
              "      gap: 12px;\n",
              "    }\n",
              "\n",
              "    .colab-df-convert {\n",
              "      background-color: #E8F0FE;\n",
              "      border: none;\n",
              "      border-radius: 50%;\n",
              "      cursor: pointer;\n",
              "      display: none;\n",
              "      fill: #1967D2;\n",
              "      height: 32px;\n",
              "      padding: 0 0 0 0;\n",
              "      width: 32px;\n",
              "    }\n",
              "\n",
              "    .colab-df-convert:hover {\n",
              "      background-color: #E2EBFA;\n",
              "      box-shadow: 0px 1px 2px rgba(60, 64, 67, 0.3), 0px 1px 3px 1px rgba(60, 64, 67, 0.15);\n",
              "      fill: #174EA6;\n",
              "    }\n",
              "\n",
              "    [theme=dark] .colab-df-convert {\n",
              "      background-color: #3B4455;\n",
              "      fill: #D2E3FC;\n",
              "    }\n",
              "\n",
              "    [theme=dark] .colab-df-convert:hover {\n",
              "      background-color: #434B5C;\n",
              "      box-shadow: 0px 1px 3px 1px rgba(0, 0, 0, 0.15);\n",
              "      filter: drop-shadow(0px 1px 2px rgba(0, 0, 0, 0.3));\n",
              "      fill: #FFFFFF;\n",
              "    }\n",
              "  </style>\n",
              "\n",
              "      <script>\n",
              "        const buttonEl =\n",
              "          document.querySelector('#df-14240c33-7a9b-4010-94ca-91dc244b16e4 button.colab-df-convert');\n",
              "        buttonEl.style.display =\n",
              "          google.colab.kernel.accessAllowed ? 'block' : 'none';\n",
              "\n",
              "        async function convertToInteractive(key) {\n",
              "          const element = document.querySelector('#df-14240c33-7a9b-4010-94ca-91dc244b16e4');\n",
              "          const dataTable =\n",
              "            await google.colab.kernel.invokeFunction('convertToInteractive',\n",
              "                                                     [key], {});\n",
              "          if (!dataTable) return;\n",
              "\n",
              "          const docLinkHtml = 'Like what you see? Visit the ' +\n",
              "            '<a target=\"_blank\" href=https://colab.research.google.com/notebooks/data_table.ipynb>data table notebook</a>'\n",
              "            + ' to learn more about interactive tables.';\n",
              "          element.innerHTML = '';\n",
              "          dataTable['output_type'] = 'display_data';\n",
              "          await google.colab.output.renderOutput(dataTable, element);\n",
              "          const docLink = document.createElement('div');\n",
              "          docLink.innerHTML = docLinkHtml;\n",
              "          element.appendChild(docLink);\n",
              "        }\n",
              "      </script>\n",
              "    </div>\n",
              "  </div>\n",
              "  "
            ]
          },
          "metadata": {},
          "execution_count": 56
        }
      ]
    },
    {
      "cell_type": "code",
      "source": [
        "# True leavers * 600 -> You rescued these people\n",
        "# False leavers * 200 -> You wasted your money since they weren't actually going to leave\n",
        "494 * (800-200) - 505 * 200"
      ],
      "metadata": {
        "id": "tOrz_ziSCX54",
        "colab": {
          "base_uri": "https://localhost:8080/"
        },
        "outputId": "6ac21c52-5d05-4261-b191-7243e009d3d0"
      },
      "execution_count": 57,
      "outputs": [
        {
          "output_type": "execute_result",
          "data": {
            "text/plain": [
              "195400"
            ]
          },
          "metadata": {},
          "execution_count": 57
        }
      ]
    },
    {
      "cell_type": "markdown",
      "source": [
        "## Fine tune the model\n",
        "\n",
        "Adjust the threshold for giving offers down to 0.2.  What happens to profit?\n",
        "\n",
        "The default threshold is 0.5 or 50% likely to make a choice.  If we adjust to 0.20, we are looking for customers with even a 20% chance of leaving.   This will lead to more offers being made and more false positives.  \n",
        "\n"
      ],
      "metadata": {
        "id": "fwflt1dBC_q-"
      }
    },
    {
      "cell_type": "code",
      "source": [
        "\n",
        "\n",
        "megatelco2_tree = DecisionTreeClassifier(criterion=\"entropy\", max_depth=4)\n",
        "\n",
        "# Create Decision Tree Classifer\n",
        "megatelco2_tree = megatelco2_tree.fit(x_train,y_train)\n",
        "\n",
        "# Use the tree to predict \"leave\"\n",
        "y_predict2 = (megatelco2_tree.predict_proba(x_test)[:,1] >= 0.17)\n",
        "\n",
        "\n",
        "# create a confusion matrix\n",
        "megatelco2_matrix = confusion_matrix(y_test, y_predict2)\n",
        "print(megatelco2_matrix)\n",
        "\n",
        " "
      ],
      "metadata": {
        "id": "wdCte4KoDeze",
        "colab": {
          "base_uri": "https://localhost:8080/"
        },
        "outputId": "bcfb847a-7658-4dfe-e91b-ed89f2c9e08c"
      },
      "execution_count": 81,
      "outputs": [
        {
          "output_type": "stream",
          "name": "stdout",
          "text": [
            "[[ 99 413]\n",
            " [ 18 469]]\n"
          ]
        }
      ]
    },
    {
      "cell_type": "markdown",
      "source": [
        "## Create a new confusion matrix"
      ],
      "metadata": {
        "id": "sUjcGGHVJZjM"
      }
    },
    {
      "cell_type": "code",
      "source": [
        "import seaborn as sns\n",
        "\n",
        "#Create a heatmap from our confusion matrix\n",
        "cm = sns.heatmap(megatelco2_matrix , annot=True, fmt='d',cmap='Reds')\n",
        "\n",
        "cm.set_title('Confusion Matrix');\n",
        "cm.set_xlabel('Predicted')\n",
        "cm.set_ylabel('Observered (Actual)');\n",
        "\n",
        "cm.xaxis.set_ticklabels(['Stay','Leave'])\n",
        "cm.yaxis.set_ticklabels(['Stay','Leave'])\n"
      ],
      "metadata": {
        "id": "EB-7JVcAJYeU",
        "colab": {
          "base_uri": "https://localhost:8080/",
          "height": 490
        },
        "outputId": "1751e3c7-69d1-4558-b188-0dc0360674c6"
      },
      "execution_count": 82,
      "outputs": [
        {
          "output_type": "execute_result",
          "data": {
            "text/plain": [
              "[Text(0, 0.5, 'Stay'), Text(0, 1.5, 'Leave')]"
            ]
          },
          "metadata": {},
          "execution_count": 82
        },
        {
          "output_type": "display_data",
          "data": {
            "text/plain": [
              "<Figure size 640x480 with 2 Axes>"
            ],
            "image/png": "[encoded data removed]"
          },
          "metadata": {}
        }
      ]
    },
    {
      "cell_type": "markdown",
      "source": [
        "## Calculate profite for new model"
      ],
      "metadata": {
        "id": "ww9cgPXwM98V"
      }
    },
    {
      "cell_type": "code",
      "source": [
        "# True leavers * 600 -> You rescued these leave-leave people\n",
        "# False leavers * 200 -> You wasted your money on the leave-stay people since they weren't actually going to leave\n",
        "( 51 * (800-200)) - (189 * 200)"
      ],
      "metadata": {
        "colab": {
          "base_uri": "https://localhost:8080/"
        },
        "id": "z27HbatInfbj",
        "outputId": "abdf86e0-2647-4d63-f2a7-808be9372b0b"
      },
      "execution_count": 80,
      "outputs": [
        {
          "output_type": "execute_result",
          "data": {
            "text/plain": [
              "-7200"
            ]
          },
          "metadata": {},
          "execution_count": 80
        }
      ]
    },
    {
      "cell_type": "code",
      "source": [
        "# True leavers * 600 -> You rescued these leave-leave people\n",
        "# False leavers * 200 -> You wasted your money on the leave-stay people since they weren't actually going to leave\n",
        "( 221 * (800-200)) - (389 * 200)"
      ],
      "metadata": {
        "colab": {
          "base_uri": "https://localhost:8080/"
        },
        "id": "LnVP0x60nWXw",
        "outputId": "34d754cd-7af4-4d70-eb62-69733bec9295"
      },
      "execution_count": 77,
      "outputs": [
        {
          "output_type": "execute_result",
          "data": {
            "text/plain": [
              "54800"
            ]
          },
          "metadata": {},
          "execution_count": 77
        }
      ]
    },
    {
      "cell_type": "code",
      "source": [
        "# True leavers * 600 -> You rescued these leave-leave people\n",
        "# False leavers * 200 -> You wasted your money on the leave-stay people since they weren't actually going to leave\n",
        "( 506 * (800-200)) - (486 * 200)"
      ],
      "metadata": {
        "id": "ATaPW2kHNBrv",
        "colab": {
          "base_uri": "https://localhost:8080/"
        },
        "outputId": "4c71f392-021b-4022-bdca-d5ab1efdd2a6"
      },
      "execution_count": 51,
      "outputs": [
        {
          "output_type": "execute_result",
          "data": {
            "text/plain": [
              "206400"
            ]
          },
          "metadata": {},
          "execution_count": 51
        }
      ]
    },
    {
      "cell_type": "code",
      "source": [
        "# True leavers * 600 -> You rescued these leave-leave people\n",
        "# False leavers * 200 -> You wasted your money on the leave-stay people since they weren't actually going to leave\n",
        "( 413 * (800-200)) - (469 * 200)"
      ],
      "metadata": {
        "colab": {
          "base_uri": "https://localhost:8080/"
        },
        "id": "FFAhmZWFnsB2",
        "outputId": "8c93d2d7-567f-4b67-9b6b-f5cfa85fa226"
      },
      "execution_count": 83,
      "outputs": [
        {
          "output_type": "execute_result",
          "data": {
            "text/plain": [
              "154000"
            ]
          },
          "metadata": {},
          "execution_count": 83
        }
      ]
    },
    {
      "cell_type": "code",
      "source": [
        "# True leavers * 600 -> You rescued these leave-leave people\n",
        "# False leavers * 200 -> You wasted your money on the leave-stay people since they weren't actually going to leave\n",
        "( 413 * (800-200)) - (465 * 200)"
      ],
      "metadata": {
        "colab": {
          "base_uri": "https://localhost:8080/"
        },
        "id": "PVwPvoewlNFM",
        "outputId": "f169f572-7706-4cf3-ea72-3168416ebfa5"
      },
      "execution_count": 74,
      "outputs": [
        {
          "output_type": "execute_result",
          "data": {
            "text/plain": [
              "154800"
            ]
          },
          "metadata": {},
          "execution_count": 74
        }
      ]
    },
    {
      "cell_type": "markdown",
      "source": [
        "# Did your model improve profit?\n",
        "YES👍"
      ],
      "metadata": {
        "id": "RFugyC_mDJjX"
      }
    }
  ]
}